{
 "metadata": {
  "name": ""
 },
 "nbformat": 3,
 "nbformat_minor": 0,
 "worksheets": [
  {
   "cells": [
    {
     "cell_type": "code",
     "collapsed": false,
     "input": [
      "import csv"
     ],
     "language": "python",
     "metadata": {},
     "outputs": [],
     "prompt_number": 2
    },
    {
     "cell_type": "code",
     "collapsed": false,
     "input": [
      "f = open('cig.csv', 'rb')\n",
      "reader = csv.reader(f)\n",
      "Tar_content = []\n",
      "Nicotine_content = []\n",
      "for row in reader:\n",
      "    b = row[0].replace(\"\\t\" , \" \")\n",
      "    c = b.split()\n",
      "    print c\n",
      "    d = [c[0]]\n",
      "    e = map(float , c[1:])\n",
      "    d.extend(e)\n",
      "    Tar_content.append(e[0])\n",
      "    Nicotine_content.append(e[1])\n",
      "    print d\n",
      "    \n",
      "    \n",
      "    \n",
      "    \n",
      "f.close()\n"
     ],
     "language": "python",
     "metadata": {},
     "outputs": [
      {
       "output_type": "stream",
       "stream": "stdout",
       "text": [
        "['Alpine', '14.1', '.86', '.9853', '13.6']\n",
        "['Alpine', 14.1, 0.86, 0.9853, 13.6]\n",
        "['Benson&Hedges', '16.0', '1.06', '1.0938', '16.6']\n",
        "['Benson&Hedges', 16.0, 1.06, 1.0938, 16.6]\n",
        "['BullDurham', '29.8', '2.03', '1.1650', '23.5']\n",
        "['BullDurham', 29.8, 2.03, 1.165, 23.5]\n",
        "['CamelLights', '8.0', '.67', '.9280', '10.2']\n",
        "['CamelLights', 8.0, 0.67, 0.928, 10.2]\n",
        "['Carlton', '4.1', '.40', '.9462', '5.4']\n",
        "['Carlton', 4.1, 0.4, 0.9462, 5.4]\n",
        "['Chesterfield', '15.0', '1.04', '.8885', '15.0']\n",
        "['Chesterfield', 15.0, 1.04, 0.8885, 15.0]\n",
        "['GoldenLights', '8.8', '.76', '1.0267', '9.0']\n",
        "['GoldenLights', 8.8, 0.76, 1.0267, 9.0]\n",
        "['Kent', '12.4', '.95', '.9225', '12.3']\n",
        "['Kent', 12.4, 0.95, 0.9225, 12.3]\n",
        "['Kool', '16.6', '1.12', '.9372', '16.3']\n",
        "['Kool', 16.6, 1.12, 0.9372, 16.3]\n",
        "['L&M', '14.9', '1.02', '.8858', '15.4']\n",
        "['L&M', 14.9, 1.02, 0.8858, 15.4]\n",
        "['LarkLights', '13.7', '1.01', '.9643', '13.0']\n",
        "['LarkLights', 13.7, 1.01, 0.9643, 13.0]\n",
        "['Marlboro', '15.1', '.90', '.9316', '14.4']\n",
        "['Marlboro', 15.1, 0.9, 0.9316, 14.4]\n",
        "['Merit', '7.8', '.57', '.9705', '10.0']\n",
        "['Merit', 7.8, 0.57, 0.9705, 10.0]\n",
        "['MultiFilter', '11.4', '.78', '1.1240', '10.2']\n",
        "['MultiFilter', 11.4, 0.78, 1.124, 10.2]\n",
        "['NewportLights', '9.0', '.74', '.8517', '9.5']\n",
        "['NewportLights', 9.0, 0.74, 0.8517, 9.5]\n",
        "['Now', '1.0', '.13', '.7851', '1.5']\n",
        "['Now', 1.0, 0.13, 0.7851, 1.5]\n",
        "['OldGold', '17.0', '1.26', '.9186', '18.5']\n",
        "['OldGold', 17.0, 1.26, 0.9186, 18.5]\n",
        "['PallMallLight', '12.8', '1.08', '1.0395', '12.6']\n",
        "['PallMallLight', 12.8, 1.08, 1.0395, 12.6]\n",
        "['Raleigh', '15.8', '.96', '.9573', '17.5']\n",
        "['Raleigh', 15.8, 0.96, 0.9573, 17.5]\n",
        "['SalemUltra', '4.5', '.42', '.9106', '4.9']\n",
        "['SalemUltra', 4.5, 0.42, 0.9106, 4.9]\n",
        "['Tareyton', '14.5', '1.01', '1.0070', '15.9']\n",
        "['Tareyton', 14.5, 1.01, 1.007, 15.9]\n",
        "['True', '7.3', '.61', '.9806', '8.5']\n",
        "['True', 7.3, 0.61, 0.9806, 8.5]\n",
        "['ViceroyRichLight', '8.6', '.69', '.9693', '10.6']\n",
        "['ViceroyRichLight', 8.6, 0.69, 0.9693, 10.6]\n",
        "['VirginiaSlims', '15.2', '1.02', '.9496', '13.9']\n",
        "['VirginiaSlims', 15.2, 1.02, 0.9496, 13.9]\n",
        "['WinstonLights', '12.0', '.82', '1.1184', '14.9']\n",
        "['WinstonLights', 12.0, 0.82, 1.1184, 14.9]\n"
       ]
      }
     ],
     "prompt_number": 5
    },
    {
     "cell_type": "code",
     "collapsed": false,
     "input": [
      "from pylab import *\n",
      "scatter(Tar_content, Nicotine_content)"
     ],
     "language": "python",
     "metadata": {},
     "outputs": [
      {
       "metadata": {},
       "output_type": "pyout",
       "prompt_number": 7,
       "text": [
        "<matplotlib.collections.PathCollection at 0xa0cf72c>"
       ]
      }
     ],
     "prompt_number": 7
    },
    {
     "cell_type": "code",
     "collapsed": false,
     "input": [],
     "language": "python",
     "metadata": {},
     "outputs": []
    }
   ],
   "metadata": {}
  }
 ]
}