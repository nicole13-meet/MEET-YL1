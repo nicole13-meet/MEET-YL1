{
 "metadata": {
  "name": ""
 },
 "nbformat": 3,
 "nbformat_minor": 0,
 "worksheets": [
  {
   "cells": [
    {
     "cell_type": "markdown",
     "metadata": {},
     "source": [
      "Nicole Zeit .\n",
      "I got this data from the data bank ."
     ]
    },
    {
     "cell_type": "code",
     "collapsed": false,
     "input": [
      " import csv"
     ],
     "language": "python",
     "metadata": {},
     "outputs": [],
     "prompt_number": 22
    },
    {
     "cell_type": "code",
     "collapsed": false,
     "input": [
      "f = open('life.csv', 'rb')\n",
      "reader = csv.reader(f)\n",
      "years =[]\n",
      "life_expectancy = []\n",
      "rownum = 0\n",
      "for row in reader:\n",
      "    if rownum == 0:\n",
      "        years = row[4:len(row)-3]\n",
      "        \n",
      "    if row[0] == 'Spain':\n",
      "        life_expectancy = row[4:len(row)-3]\n",
      "    \n",
      "    rownum += 1 \n",
      "\n",
      "years = map(int , years)\n",
      "life_expectancy = map(float , life_expectancy)\n",
      "\n",
      "\n",
      "print years\n",
      "print life_expectancy\n",
      "print size(years)\n",
      "print size(life_expectancy)\n",
      "\n",
      "f.close()\n"
     ],
     "language": "python",
     "metadata": {},
     "outputs": [
      {
       "output_type": "stream",
       "stream": "stdout",
       "text": [
        "[1961, 1962, 1963, 1964, 1965, 1966, 1967, 1968, 1969, 1970, 1971, 1972, 1973, 1974, 1975, 1976, 1977, 1978, 1979, 1980, 1981, 1982, 1983, 1984, 1985, 1986, 1987, 1988, 1989, 1990, 1991, 1992, 1993, 1994, 1995, 1996, 1997, 1998, 1999, 2000, 2001, 2002, 2003, 2004, 2005, 2006, 2007, 2008, 2009, 2010, 2011]\n",
        "[69.4804878048781, 69.5190243902439, 69.6812195121951, 70.399756097561, 70.8092682926829, 71.0551219512195, 71.2529268292683, 71.5378048780488, 71.0575609756098, 72.0273170731707, 71.630243902439, 72.8180487804878, 72.6107317073171, 72.969756097561, 73.3187804878049, 73.6426829268293, 74.1319512195122, 74.2956097560976, 74.8187804878049, 75.3492682926829, 75.5285365853659, 76.1341463414634, 75.9090243902439, 76.2953658536586, 76.259512195122, 76.5104878048781, 76.7280487804878, 76.7470731707317, 76.8136585365854, 76.8375609756098, 76.9712195121951, 77.41, 77.5465853658537, 77.9014634146342, 77.9807317073171, 78.1204878048781, 78.6041463414634, 78.6658536585366, 78.7170731707317, 78.9658536585366, 79.3682926829268, 79.5682926829268, 79.619512195122, 79.8707317073171, 80.1707317073171, 80.8219512195122, 80.8731707317073, 81.1756097560976, 81.4756097560976, 81.6268292682927, 82.3268292682927]\n",
        "51\n",
        "51\n"
       ]
      }
     ],
     "prompt_number": 57
    },
    {
     "cell_type": "code",
     "collapsed": false,
     "input": [
      "from pylab import *"
     ],
     "language": "python",
     "metadata": {},
     "outputs": [],
     "prompt_number": 48
    },
    {
     "cell_type": "code",
     "collapsed": false,
     "input": [
      "fig = plt.figure()\n",
      "ax = fig.add_subplot(111)\n",
      "ax.set_title('Life Expectancy in Spain')\n",
      "ax.set_xlabel('Years')\n",
      "ax.set_ylabel('Life Expectancy')\n",
      "ax.plot(years, life_expectancy)\n",
      "fig.savefig(\"Life_Expectancy_S.png\")"
     ],
     "language": "python",
     "metadata": {},
     "outputs": [
      {
       "metadata": {},
       "output_type": "display_data",
       "png": "[encoded data removed]",
       "text": [
        "<matplotlib.figure.Figure at 0xa038b0c>"
       ]
      }
     ],
     "prompt_number": 55
    },
    {
     "cell_type": "markdown",
     "metadata": {},
     "source": [
      "This plot explains the life expectancy for people in Spain from 1960 till 2010 . It also shows that the Spanish are living longer than they used to 50 years ago .  "
     ]
    },
    {
     "cell_type": "code",
     "collapsed": false,
     "input": [],
     "language": "python",
     "metadata": {},
     "outputs": []
    }
   ],
   "metadata": {}
  }
 ]
}